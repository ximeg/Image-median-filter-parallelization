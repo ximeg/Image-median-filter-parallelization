{
 "cells": [
  {
   "cell_type": "markdown",
   "id": "7cc7f523-c3e7-4024-ac48-e9827deaf48e",
   "metadata": {},
   "source": [
    "# Coding Challenge\n",
    "## Image Median Filter Parallelization\n",
    "\n",
    "### Description of the Challenge\n",
    "Local median filter is used for smoothing images and noise reduction. The degree of smoothing is determined by the kernel size which can be 2D or 3D. Applying 3D median filter to large 3D images (eg. 2000x2000x2000 voxels) is challenging because the images often do not fit in the memory and single-threaded execution of the filter is inefficient and too slow.\n"
   ]
  },
  {
   "cell_type": "markdown",
   "id": "1b2429f4-7077-4dde-9a6d-fe5167ee3379",
   "metadata": {},
   "source": [
    "### Task 1\n",
    "Create a 3D synthetic image and split it into subvolumes and apply median filter (like skimage.filters.median) to each subvolume in parallel. The output needs to be a 3D array with the same size as the original 3D image."
   ]
  },
  {
   "cell_type": "code",
   "execution_count": null,
   "id": "5ecd2635-1cd2-44d7-bc91-52187766da57",
   "metadata": {},
   "outputs": [],
   "source": [
    "from skimage.io import imread\n",
    "from skimage.filters import median"
   ]
  },
  {
   "cell_type": "markdown",
   "id": "1ab673ae-5d4e-4949-93a4-5c0a9e7c669d",
   "metadata": {},
   "source": [
    "### Dask-based solution"
   ]
  },
  {
   "cell_type": "code",
   "execution_count": 25,
   "id": "e1f068b3-73ed-41ad-8017-61126c1a1107",
   "metadata": {},
   "outputs": [],
   "source": [
    "from dask.distributed import Client\n",
    "from dask.array.image import imread as imread_dask\n",
    "from dask_image.ndfilters import median_filter\n",
    "import dask\n",
    "import numpy as np\n",
    "import napari\n",
    "\n"
   ]
  },
  {
   "cell_type": "code",
   "execution_count": 22,
   "id": "a9ba402a-8bfa-41cf-a7c3-35020d471e0f",
   "metadata": {},
   "outputs": [
    {
     "data": {
      "text/plain": [
       "(60, 2, 256, 256)"
      ]
     },
     "execution_count": 22,
     "metadata": {},
     "output_type": "execute_result"
    }
   ],
   "source": [
    "imread(\"cells3d.tif\").shape"
   ]
  },
  {
   "cell_type": "code",
   "execution_count": 21,
   "id": "a7f0a69c-1a6c-4cdb-ab26-76c2379d12f3",
   "metadata": {},
   "outputs": [
    {
     "name": "stdout",
     "output_type": "stream",
     "text": [
      "(1, 60, 2, 256, 256)\n"
     ]
    },
    {
     "data": {
      "text/html": [
       "<table>\n",
       "<tr>\n",
       "<td>\n",
       "<table>\n",
       "  <thead>\n",
       "    <tr><td> </td><th> Array </th><th> Chunk </th></tr>\n",
       "  </thead>\n",
       "  <tbody>\n",
       "    <tr><th> Bytes </th><td> 15.00 MiB </td> <td> 15.00 MiB </td></tr>\n",
       "    <tr><th> Shape </th><td> (1, 60, 2, 256, 256) </td> <td> (1, 60, 2, 256, 256) </td></tr>\n",
       "    <tr><th> Count </th><td> 1 Tasks </td><td> 1 Chunks </td></tr>\n",
       "    <tr><th> Type </th><td> uint16 </td><td> numpy.ndarray </td></tr>\n",
       "  </tbody>\n",
       "</table>\n",
       "</td>\n",
       "<td>\n",
       "<svg width=\"408\" height=\"184\" style=\"stroke:rgb(0,0,0);stroke-width:1\" >\n",
       "\n",
       "  <!-- Horizontal lines -->\n",
       "  <line x1=\"0\" y1=\"0\" x2=\"42\" y2=\"0\" style=\"stroke-width:2\" />\n",
       "  <line x1=\"0\" y1=\"25\" x2=\"42\" y2=\"25\" style=\"stroke-width:2\" />\n",
       "\n",
       "  <!-- Vertical lines -->\n",
       "  <line x1=\"0\" y1=\"0\" x2=\"0\" y2=\"25\" style=\"stroke-width:2\" />\n",
       "  <line x1=\"42\" y1=\"0\" x2=\"42\" y2=\"25\" style=\"stroke-width:2\" />\n",
       "\n",
       "  <!-- Colored Rectangle -->\n",
       "  <polygon points=\"0.0,0.0 42.65285522840181,0.0 42.65285522840181,25.412616514582485 0.0,25.412616514582485\" style=\"fill:#ECB172A0;stroke-width:0\"/>\n",
       "\n",
       "  <!-- Text -->\n",
       "  <text x=\"21.326428\" y=\"45.412617\" font-size=\"1.0rem\" font-weight=\"100\" text-anchor=\"middle\" >60</text>\n",
       "  <text x=\"62.652855\" y=\"12.706308\" font-size=\"1.0rem\" font-weight=\"100\" text-anchor=\"middle\" transform=\"rotate(0,62.652855,12.706308)\">1</text>\n",
       "\n",
       "\n",
       "  <!-- Horizontal lines -->\n",
       "  <line x1=\"112\" y1=\"0\" x2=\"126\" y2=\"14\" style=\"stroke-width:2\" />\n",
       "  <line x1=\"112\" y1=\"120\" x2=\"126\" y2=\"134\" style=\"stroke-width:2\" />\n",
       "\n",
       "  <!-- Vertical lines -->\n",
       "  <line x1=\"112\" y1=\"0\" x2=\"112\" y2=\"120\" style=\"stroke-width:2\" />\n",
       "  <line x1=\"126\" y1=\"14\" x2=\"126\" y2=\"134\" style=\"stroke-width:2\" />\n",
       "\n",
       "  <!-- Colored Rectangle -->\n",
       "  <polygon points=\"112.0,0.0 126.9485979497544,14.948597949754403 126.9485979497544,134.9485979497544 112.0,120.0\" style=\"fill:#ECB172A0;stroke-width:0\"/>\n",
       "\n",
       "  <!-- Horizontal lines -->\n",
       "  <line x1=\"112\" y1=\"0\" x2=\"232\" y2=\"0\" style=\"stroke-width:2\" />\n",
       "  <line x1=\"126\" y1=\"14\" x2=\"246\" y2=\"14\" style=\"stroke-width:2\" />\n",
       "\n",
       "  <!-- Vertical lines -->\n",
       "  <line x1=\"112\" y1=\"0\" x2=\"126\" y2=\"14\" style=\"stroke-width:2\" />\n",
       "  <line x1=\"232\" y1=\"0\" x2=\"246\" y2=\"14\" style=\"stroke-width:2\" />\n",
       "\n",
       "  <!-- Colored Rectangle -->\n",
       "  <polygon points=\"112.0,0.0 232.0,0.0 246.9485979497544,14.948597949754403 126.9485979497544,14.948597949754403\" style=\"fill:#ECB172A0;stroke-width:0\"/>\n",
       "\n",
       "  <!-- Horizontal lines -->\n",
       "  <line x1=\"126\" y1=\"14\" x2=\"246\" y2=\"14\" style=\"stroke-width:2\" />\n",
       "  <line x1=\"126\" y1=\"134\" x2=\"246\" y2=\"134\" style=\"stroke-width:2\" />\n",
       "\n",
       "  <!-- Vertical lines -->\n",
       "  <line x1=\"126\" y1=\"14\" x2=\"126\" y2=\"134\" style=\"stroke-width:2\" />\n",
       "  <line x1=\"246\" y1=\"14\" x2=\"246\" y2=\"134\" style=\"stroke-width:2\" />\n",
       "\n",
       "  <!-- Colored Rectangle -->\n",
       "  <polygon points=\"126.9485979497544,14.948597949754403 246.9485979497544,14.948597949754403 246.9485979497544,134.9485979497544 126.9485979497544,134.9485979497544\" style=\"fill:#ECB172A0;stroke-width:0\"/>\n",
       "\n",
       "  <!-- Text -->\n",
       "  <text x=\"186.948598\" y=\"154.948598\" font-size=\"1.0rem\" font-weight=\"100\" text-anchor=\"middle\" >256</text>\n",
       "  <text x=\"266.948598\" y=\"74.948598\" font-size=\"1.0rem\" font-weight=\"100\" text-anchor=\"middle\" transform=\"rotate(-90,266.948598,74.948598)\">256</text>\n",
       "  <text x=\"109.474299\" y=\"147.474299\" font-size=\"1.0rem\" font-weight=\"100\" text-anchor=\"middle\" transform=\"rotate(45,109.474299,147.474299)\">2</text>\n",
       "</svg>\n",
       "</td>\n",
       "</tr>\n",
       "</table>"
      ],
      "text/plain": [
       "dask.array<imread, shape=(1, 60, 2, 256, 256), dtype=uint16, chunksize=(1, 60, 2, 256, 256), chunktype=numpy.ndarray>"
      ]
     },
     "execution_count": 21,
     "metadata": {},
     "output_type": "execute_result"
    }
   ],
   "source": [
    "img = imread_dask(\"cells3d.tif\")\n",
    "print(img.shape)\n",
    "img"
   ]
  },
  {
   "cell_type": "markdown",
   "id": "496a512b-ea93-4216-9c2c-3c7dc72dddc4",
   "metadata": {},
   "source": [
    "This image has unusual dimensions, but we can look at it with napari using the following code:\n",
    "```python\n",
    "v = napari.Viewer()\n",
    "v.add_image(img)\n",
    "```\n",
    "We extract the second spectral channel like this"
   ]
  },
  {
   "cell_type": "code",
   "execution_count": 23,
   "id": "0b5883c0-9743-4a23-9b1c-e55e7dfddac3",
   "metadata": {},
   "outputs": [],
   "source": [
    "stack = img[0, :, 1, :, :]"
   ]
  },
  {
   "cell_type": "code",
   "execution_count": 24,
   "id": "a8d1c2c4-eb98-421e-8053-2dc6ce228a84",
   "metadata": {},
   "outputs": [
    {
     "data": {
      "text/html": [
       "<table>\n",
       "<tr>\n",
       "<td>\n",
       "<table>\n",
       "  <thead>\n",
       "    <tr><td> </td><th> Array </th><th> Chunk </th></tr>\n",
       "  </thead>\n",
       "  <tbody>\n",
       "    <tr><th> Bytes </th><td> 7.50 MiB </td> <td> 7.50 MiB </td></tr>\n",
       "    <tr><th> Shape </th><td> (60, 256, 256) </td> <td> (60, 256, 256) </td></tr>\n",
       "    <tr><th> Count </th><td> 2 Tasks </td><td> 1 Chunks </td></tr>\n",
       "    <tr><th> Type </th><td> uint16 </td><td> numpy.ndarray </td></tr>\n",
       "  </tbody>\n",
       "</table>\n",
       "</td>\n",
       "<td>\n",
       "<svg width=\"205\" height=\"195\" style=\"stroke:rgb(0,0,0);stroke-width:1\" >\n",
       "\n",
       "  <!-- Horizontal lines -->\n",
       "  <line x1=\"10\" y1=\"0\" x2=\"35\" y2=\"25\" style=\"stroke-width:2\" />\n",
       "  <line x1=\"10\" y1=\"120\" x2=\"35\" y2=\"145\" style=\"stroke-width:2\" />\n",
       "\n",
       "  <!-- Vertical lines -->\n",
       "  <line x1=\"10\" y1=\"0\" x2=\"10\" y2=\"120\" style=\"stroke-width:2\" />\n",
       "  <line x1=\"35\" y1=\"25\" x2=\"35\" y2=\"145\" style=\"stroke-width:2\" />\n",
       "\n",
       "  <!-- Colored Rectangle -->\n",
       "  <polygon points=\"10.0,0.0 35.08991484023636,25.08991484023636 35.08991484023636,145.08991484023636 10.0,120.0\" style=\"fill:#ECB172A0;stroke-width:0\"/>\n",
       "\n",
       "  <!-- Horizontal lines -->\n",
       "  <line x1=\"10\" y1=\"0\" x2=\"130\" y2=\"0\" style=\"stroke-width:2\" />\n",
       "  <line x1=\"35\" y1=\"25\" x2=\"155\" y2=\"25\" style=\"stroke-width:2\" />\n",
       "\n",
       "  <!-- Vertical lines -->\n",
       "  <line x1=\"10\" y1=\"0\" x2=\"35\" y2=\"25\" style=\"stroke-width:2\" />\n",
       "  <line x1=\"130\" y1=\"0\" x2=\"155\" y2=\"25\" style=\"stroke-width:2\" />\n",
       "\n",
       "  <!-- Colored Rectangle -->\n",
       "  <polygon points=\"10.0,0.0 130.0,0.0 155.08991484023636,25.08991484023636 35.08991484023636,25.08991484023636\" style=\"fill:#ECB172A0;stroke-width:0\"/>\n",
       "\n",
       "  <!-- Horizontal lines -->\n",
       "  <line x1=\"35\" y1=\"25\" x2=\"155\" y2=\"25\" style=\"stroke-width:2\" />\n",
       "  <line x1=\"35\" y1=\"145\" x2=\"155\" y2=\"145\" style=\"stroke-width:2\" />\n",
       "\n",
       "  <!-- Vertical lines -->\n",
       "  <line x1=\"35\" y1=\"25\" x2=\"35\" y2=\"145\" style=\"stroke-width:2\" />\n",
       "  <line x1=\"155\" y1=\"25\" x2=\"155\" y2=\"145\" style=\"stroke-width:2\" />\n",
       "\n",
       "  <!-- Colored Rectangle -->\n",
       "  <polygon points=\"35.08991484023636,25.08991484023636 155.08991484023636,25.08991484023636 155.08991484023636,145.08991484023636 35.08991484023636,145.08991484023636\" style=\"fill:#ECB172A0;stroke-width:0\"/>\n",
       "\n",
       "  <!-- Text -->\n",
       "  <text x=\"95.089915\" y=\"165.089915\" font-size=\"1.0rem\" font-weight=\"100\" text-anchor=\"middle\" >256</text>\n",
       "  <text x=\"175.089915\" y=\"85.089915\" font-size=\"1.0rem\" font-weight=\"100\" text-anchor=\"middle\" transform=\"rotate(-90,175.089915,85.089915)\">256</text>\n",
       "  <text x=\"12.544957\" y=\"152.544957\" font-size=\"1.0rem\" font-weight=\"100\" text-anchor=\"middle\" transform=\"rotate(45,12.544957,152.544957)\">60</text>\n",
       "</svg>\n",
       "</td>\n",
       "</tr>\n",
       "</table>"
      ],
      "text/plain": [
       "dask.array<getitem, shape=(60, 256, 256), dtype=uint16, chunksize=(60, 256, 256), chunktype=numpy.ndarray>"
      ]
     },
     "execution_count": 24,
     "metadata": {},
     "output_type": "execute_result"
    }
   ],
   "source": [
    "stack"
   ]
  },
  {
   "cell_type": "code",
   "execution_count": 19,
   "id": "68b5dbd7-cd08-44e5-9c29-a07a1b3f4dcf",
   "metadata": {},
   "outputs": [
    {
     "name": "stderr",
     "output_type": "stream",
     "text": [
      "WARNING: QWindowsWindow::setGeometry: Unable to set geometry 1090x685+1+-1050 on QWidgetWindow/'_QtMainWindowClassWindow'. Resulting geometry:  870x547+0+-1057 (frame: 8, 31, 8, 8, custom margin: 0, 0, 0, 0, minimum size: 612x547, maximum size: 16777215x16777215).\n",
      "C:\\Users\\rkiselev\\Anaconda3\\envs\\fret\\lib\\site-packages\\napari\\_vispy\\vispy_camera.py:109: RuntimeWarning: divide by zero encountered in true_divide\n",
      "  zoom = np.min(canvas_size / scale)\n"
     ]
    },
    {
     "data": {
      "text/plain": [
       "<Image layer 'img' at 0x144362b3ac0>"
      ]
     },
     "execution_count": 19,
     "metadata": {},
     "output_type": "execute_result"
    }
   ],
   "source": [
    "v = napari.Viewer()\n",
    "v.add_image(img)"
   ]
  },
  {
   "cell_type": "code",
   "execution_count": 29,
   "id": "8b1db755-0185-4931-848b-dd55ae1c723f",
   "metadata": {},
   "outputs": [
    {
     "name": "stderr",
     "output_type": "stream",
     "text": [
      "C:\\Users\\rkiselev\\Anaconda3\\envs\\fret\\lib\\site-packages\\napari\\_vispy\\vispy_camera.py:109: RuntimeWarning: divide by zero encountered in true_divide\n",
      "  zoom = np.min(canvas_size / scale)\n"
     ]
    },
    {
     "data": {
      "text/plain": [
       "<Image layer 'stack' at 0x14436215a00>"
      ]
     },
     "execution_count": 29,
     "metadata": {},
     "output_type": "execute_result"
    }
   ],
   "source": [
    "filter_size = (3, 1, 1)\n",
    "filtered = median_filter(stack, size=filter_size)\n",
    "v = napari.Viewer()\n",
    "v.add_image(filtered)\n",
    "v.add_image(stack)"
   ]
  },
  {
   "cell_type": "code",
   "execution_count": null,
   "id": "c8ceb639-f964-4a68-95da-a7673a823b05",
   "metadata": {},
   "outputs": [],
   "source": []
  }
 ],
 "metadata": {
  "kernelspec": {
   "display_name": "Python 3 (ipykernel)",
   "language": "python",
   "name": "python3"
  },
  "language_info": {
   "codemirror_mode": {
    "name": "ipython",
    "version": 3
   },
   "file_extension": ".py",
   "mimetype": "text/x-python",
   "name": "python",
   "nbconvert_exporter": "python",
   "pygments_lexer": "ipython3",
   "version": "3.9.6"
  }
 },
 "nbformat": 4,
 "nbformat_minor": 5
}
